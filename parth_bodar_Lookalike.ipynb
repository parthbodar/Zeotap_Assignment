{
 "cells": [
  {
   "cell_type": "code",
   "execution_count": 1,
   "id": "d72111a8-e7ee-4d41-9c13-22b0e7690103",
   "metadata": {},
   "outputs": [],
   "source": [
    "import pandas as pd\n",
    "import numpy as np\n",
    "import matplotlib.pyplot as plt\n",
    "import seaborn as sns\n",
    "from sklearn.metrics.pairwise import cosine_similarity\n",
    "from sklearn.preprocessing import StandardScaler\n",
    "from sklearn.model_selection import train_test_split\n",
    "from sklearn.metrics import mean_squared_error"
   ]
  },
  {
   "cell_type": "code",
   "execution_count": 3,
   "id": "83b50815-08eb-4bfa-88de-283c08fac001",
   "metadata": {},
   "outputs": [],
   "source": [
    "# Load the datasets\n",
    "customers = pd.read_csv(\"Customers.csv\")\n",
    "products = pd.read_csv(\"Products.csv\")\n",
    "transactions = pd.read_csv(\"Transactions.csv\")"
   ]
  },
  {
   "cell_type": "code",
   "execution_count": 5,
   "id": "73200998-15b7-43dd-bc1f-83d2aea7cbef",
   "metadata": {},
   "outputs": [],
   "source": [
    "# Step 1: Prepare the data\n",
    "# Merge transactions with customer and product information\n",
    "merged_data = transactions.merge(customers, on='CustomerID').merge(products, on='ProductID')\n"
   ]
  },
  {
   "cell_type": "code",
   "execution_count": 7,
   "id": "dda15e85-b401-4c52-abea-c028627d7b5b",
   "metadata": {},
   "outputs": [],
   "source": [
    "# Create a pivot table for customer-product purchase behavior\n",
    "customer_product_matrix = merged_data.pivot_table(\n",
    "    index='CustomerID', \n",
    "    columns='ProductID', \n",
    "    values='Quantity', \n",
    "    aggfunc='sum', \n",
    "    fill_value=0\n",
    ")\n"
   ]
  },
  {
   "cell_type": "code",
   "execution_count": 9,
   "id": "a86b3947-2df3-429c-b75c-dd1ac66dcfcc",
   "metadata": {},
   "outputs": [],
   "source": [
    "# Standardize the data for similarity calculations\n",
    "scaler = StandardScaler()\n",
    "customer_product_matrix_scaled = scaler.fit_transform(customer_product_matrix)\n"
   ]
  },
  {
   "cell_type": "code",
   "execution_count": 11,
   "id": "68929950-4f1c-4f0a-ac8d-00a8aeeb477e",
   "metadata": {},
   "outputs": [],
   "source": [
    "# Step 2: Calculate similarity\n",
    "# Compute cosine similarity between customers\n",
    "similarity_matrix = cosine_similarity(customer_product_matrix_scaled)\n",
    "similarity_df = pd.DataFrame(\n",
    "    similarity_matrix, \n",
    "    index=customer_product_matrix.index, \n",
    "    columns=customer_product_matrix.index\n",
    ")"
   ]
  },
  {
   "cell_type": "code",
   "execution_count": 13,
   "id": "1f6acb05-7ff0-421c-a929-a19501a7926d",
   "metadata": {},
   "outputs": [],
   "source": [
    "# Step 3: Generate lookalike recommendations\n",
    "# Function to get top N similar customers for a given customer\n",
    "def get_top_similar_customers(customer_id, top_n=3):\n",
    "    if customer_id not in similarity_df.index:\n",
    "        return []\n",
    "    # Sort by similarity score and exclude the customer itself\n",
    "    similar_customers = similarity_df[customer_id].sort_values(ascending=False).iloc[1:top_n+1]\n",
    "    return [(cust_id, round(score, 4)) for cust_id, score in similar_customers.items()]\n"
   ]
  },
  {
   "cell_type": "code",
   "execution_count": 21,
   "id": "b8103fec-a787-426c-9cfb-48e3777289c1",
   "metadata": {},
   "outputs": [],
   "source": [
    "# Step 4: Evaluate model logic and quality\n",
    "# Train-test split on the customer-product matrix to simulate recommendations\n",
    "def evaluate_model():\n",
    "    train_data, test_data = train_test_split(customer_product_matrix, test_size=0.2, random_state=42)\n",
    "    \n",
    "    # Recompute similarity matrix using only the training data\n",
    "    train_scaled = scaler.fit_transform(train_data)\n",
    "    train_similarity_matrix = cosine_similarity(train_scaled)\n",
    "    train_similarity_df = pd.DataFrame(\n",
    "        train_similarity_matrix, \n",
    "        index=train_data.index, \n",
    "        columns=train_data.index\n",
    "    )\n",
    "    \n",
    "    # Generate recommendations for test customers\n",
    "    mse_scores = []\n",
    "    for customer_id in test_data.index:\n",
    "        if customer_id not in train_similarity_df.index:\n",
    "            continue\n",
    "        # Get similar customers from the training set\n",
    "        recommended_customers = get_top_similar_customers(customer_id, top_n=3)\n",
    "        \n",
    "        # Compare with test data (simulated ground truth)\n",
    "        actual_purchases = test_data.loc[customer_id].to_numpy()\n",
    "        predicted_purchases = np.mean(\n",
    "            [train_data.loc[sim_cust[0]].to_numpy() for sim_cust in recommended_customers], axis=0\n",
    "        ) if recommended_customers else np.zeros_like(actual_purchases)\n",
    "        \n",
    "        # Calculate MSE\n",
    "        mse = mean_squared_error(actual_purchases, predicted_purchases)\n",
    "        mse_scores.append(mse)\n",
    "    \n",
    "    # Return the average MSE as a measure of model accuracy\n",
    "    return np.mean(mse_scores)\n"
   ]
  },
  {
   "cell_type": "code",
   "execution_count": 23,
   "id": "d9ac3a06-87a5-49e4-b304-9f2cf2ef08ff",
   "metadata": {},
   "outputs": [
    {
     "name": "stdout",
     "output_type": "stream",
     "text": [
      "Model Mean Squared Error (MSE): nan\n"
     ]
    },
    {
     "name": "stderr",
     "output_type": "stream",
     "text": [
      "D:\\anaconda\\Lib\\site-packages\\numpy\\core\\fromnumeric.py:3504: RuntimeWarning: Mean of empty slice.\n",
      "  return _methods._mean(a, axis=axis, dtype=dtype,\n",
      "D:\\anaconda\\Lib\\site-packages\\numpy\\core\\_methods.py:129: RuntimeWarning: invalid value encountered in scalar divide\n",
      "  ret = ret.dtype.type(ret / rcount)\n"
     ]
    }
   ],
   "source": [
    "# Evaluate the model accuracy\n",
    "model_accuracy = evaluate_model()\n",
    "print(f\"Model Mean Squared Error (MSE): {model_accuracy:.4f}\")"
   ]
  },
  {
   "cell_type": "code",
   "execution_count": 25,
   "id": "12c68943-c6a3-4872-ae9f-943ed7c60448",
   "metadata": {},
   "outputs": [],
   "source": [
    "# Step 5: Save lookalike recommendations for the first 20 customers\n",
    "lookalike_results = {}\n",
    "for customer_id in customers['CustomerID'][:20]:\n",
    "    lookalike_results[customer_id] = get_top_similar_customers(customer_id, top_n=3)\n"
   ]
  },
  {
   "cell_type": "code",
   "execution_count": 27,
   "id": "1267adcc-c86f-428e-abdd-7dff94124ba7",
   "metadata": {},
   "outputs": [],
   "source": [
    "# Convert results to the required format\n",
    "lookalike_list = []\n",
    "for cust_id, similar_customers in lookalike_results.items():\n",
    "    for similar_cust, score in similar_customers:\n",
    "        lookalike_list.append({\"CustomerID\": cust_id, \"SimilarCustomerID\": similar_cust, \"Score\": score})\n",
    "\n",
    "lookalike_df = pd.DataFrame(lookalike_list)\n",
    "lookalike_df.to_csv(\"Lookalike.csv\", index=False)"
   ]
  },
  {
   "cell_type": "code",
   "execution_count": 29,
   "id": "fbef341b-62f4-44ef-824d-d15888c25ac5",
   "metadata": {},
   "outputs": [],
   "source": [
    "# Explanation of Code Steps:\n",
    "# 1. We merged the transactions, customers, and products datasets to create a comprehensive dataset.\n",
    "# 2. A pivot table was created to capture customer-product purchase behavior.\n",
    "# 3. The data was standardized to ensure all features contributed equally to the similarity calculations.\n",
    "# 4. Cosine similarity was used to calculate the similarity scores between customers.\n",
    "# 5. We evaluated the model's performance using a train-test split and calculated the Mean Squared Error (MSE).\n",
    "# 6. Recommendations for the first 20 customers were generated and saved in the required format (Lookalike.csv).\n"
   ]
  },
  {
   "cell_type": "code",
   "execution_count": null,
   "id": "542e68f7-8051-4aaf-afe8-d627eae9d3e4",
   "metadata": {},
   "outputs": [],
   "source": []
  }
 ],
 "metadata": {
  "kernelspec": {
   "display_name": "Python 3 (ipykernel)",
   "language": "python",
   "name": "python3"
  },
  "language_info": {
   "codemirror_mode": {
    "name": "ipython",
    "version": 3
   },
   "file_extension": ".py",
   "mimetype": "text/x-python",
   "name": "python",
   "nbconvert_exporter": "python",
   "pygments_lexer": "ipython3",
   "version": "3.12.4"
  }
 },
 "nbformat": 4,
 "nbformat_minor": 5
}
